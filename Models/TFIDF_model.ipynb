{
  "nbformat": 4,
  "nbformat_minor": 0,
  "metadata": {
    "colab": {
      "name": "TFIDF_model.ipynb",
      "provenance": [],
      "collapsed_sections": [],
      "authorship_tag": "ABX9TyOoFKkPU84DkbH9J0TgJQ2t",
      "include_colab_link": true
    },
    "kernelspec": {
      "name": "python3",
      "display_name": "Python 3"
    },
    "language_info": {
      "name": "python"
    }
  },
  "cells": [
    {
      "cell_type": "markdown",
      "metadata": {
        "id": "view-in-github",
        "colab_type": "text"
      },
      "source": [
        "<a href=\"https://colab.research.google.com/github/OmarMohammed88/E-Psychiatrist_model/blob/main/Models/TFIDF_model.ipynb\" target=\"_parent\"><img src=\"https://colab.research.google.com/assets/colab-badge.svg\" alt=\"Open In Colab\"/></a>"
      ]
    },
    {
      "cell_type": "code",
      "source": [
        "!unzip archive.zip"
      ],
      "metadata": {
        "colab": {
          "base_uri": "https://localhost:8080/"
        },
        "id": "8qQUzDesrvcV",
        "outputId": "52a94380-0b8a-46f5-ae6a-399c98012f06"
      },
      "execution_count": 45,
      "outputs": [
        {
          "output_type": "stream",
          "name": "stdout",
          "text": [
            "Archive:  archive.zip\n",
            "  inflating: tweet_emotions.csv      \n"
          ]
        }
      ]
    },
    {
      "cell_type": "code",
      "execution_count": 79,
      "metadata": {
        "id": "9OQ-Z_CXn1Jg"
      },
      "outputs": [],
      "source": [
        "import pandas as pd\n",
        "df_1 = pd.read_csv(\"/content/emotion_dataset.txt\",header=None,sep=';')\n",
        "df_1.columns = ['text','label']"
      ]
    },
    {
      "cell_type": "code",
      "source": [
        "import pandas as pd\n",
        "df_2 = pd.read_csv(\"/content/tweet_emotions.csv\")\n",
        "df_2.columns = ['tweet_id','label','text']"
      ],
      "metadata": {
        "id": "4-bLss2trXbW"
      },
      "execution_count": 2,
      "outputs": []
    },
    {
      "cell_type": "code",
      "source": [
        "import re ,html\n",
        "\n",
        "url_regexes = [\n",
        "    r\"(http(s)?:\\/\\/.)?(www\\.)?[-a-zA-Z0-9@:%._\\+~#=]{2,256}\\.[a-z]{2,6}\\b([-a-zA-Z0-9@:%_\\+.~#?&//=]*)\",\n",
        "    r\"@(https?|ftp)://(-\\.)?([^\\s/?\\.#-]+\\.?)+(/[^\\s]*)?$@iS\",\n",
        "    r\"http[s]?://[a-zA-Z0-9_\\-./~\\?=%&]+\",\n",
        "    r\"www[a-zA-Z0-9_\\-?=%&/.~]+\",\n",
        "    r\"[a-zA-Z]+\\.com\",\n",
        "    r\"(?=http)[^\\s]+\",\n",
        "    r\"(?=www)[^\\s]+\",\n",
        "    r\"://\",\n",
        "]\n",
        "\n",
        "user_mention_regex = r\"@[\\w\\d]+\"\n",
        "email_regexes = [r\"[\\w-]+@([\\w-]+\\.)+[\\w-]+\", r\"\\S+@\\S+\"]\n",
        "redundant_punct_pattern = (\n",
        "    r\"([!\\\"#\\$%\\'\\(\\)\\*\\+,\\.:;\\-<=·>?@\\[\\\\\\]\\^_ـ`{\\|}~—٪’،؟`୍“؛”ۚ【»؛\\s+«–…‘]{2,})\"\n",
        ")\n",
        "regex_tatweel = r\"(\\D)\\1{2,}\"\n",
        "rejected_chars_regex = r\"[^0-9\\a-zA-Z\\[\\]!\\\"#\\$%\\'\\(\\)\\*\\+,\\.:;\\-<=·>?@\\[\\\\\\]\\^_ـ`{\\|}~—٪’،؟`୍“؛”ۚ»؛\\s+«–…‘]\"\n",
        "\n",
        "regex_url_step1 = r\"(?=http)[^\\s]+\"\n",
        "regex_url_step2 = r\"(?=www)[^\\s]+\"\n",
        "regex_url = r\"(http(s)?:\\/\\/.)?(www\\.)?[-a-zA-Z0-9@:%._\\+~#=]{2,256}\\.[a-z]{2,6}\\b([-a-zA-Z0-9@:%_\\+.~#?&//=]*)\"\n",
        "regex_mention = r\"@[\\w\\d]+\"\n",
        "regex_email = r\"\\S+@\\S+\"\n",
        "\n",
        "chars_regex = r\"0-9\\u0621-\\u063A\\u0640-\\u066C\\u0671-\\u0674a-zA-Z\\[\\]!\\\"#\\$%\\'\\(\\)\\*\\+,\\.:;\\-<=·>?@\\[\\\\\\]\\^_ـ`{\\|}~—٪’،؟`୍“؛”ۚ»؛\\s+«–…‘\"\n",
        "\n",
        "white_spaced_double_quotation_regex = r'\\\"\\s+([^\"]+)\\s+\\\"'\n",
        "white_spaced_single_quotation_regex = r\"\\'\\s+([^']+)\\s+\\'\"\n",
        "white_spaced_back_quotation_regex = r\"\\`\\s+([^`]+)\\s+\\`\"\n",
        "white_spaced_em_dash = r\"\\—\\s+([^—]+)\\s+\\—\"\n",
        "\n",
        "left_spaced_chars = r\" ([\\]!#\\$%\\),\\.:;\\?}٪’،؟”؛…»·])\"\n",
        "right_spaced_chars = r\"([\\[\\(\\{“«‘*\\~]) \"\n",
        "left_and_right_spaced_chars = r\" ([\\+\\-\\<\\=\\>\\@\\\\\\^\\_\\|\\–]) \"\n",
        "replace_urls_emails_mentions=True\n",
        "strip_tashkeel=True\n",
        "strip_tatweel=True\n",
        "insert_white_spaces=True\n",
        "remove_elongation=True\n",
        "remove_html_markup=True\n",
        "\n",
        "\n",
        "def preprocess(text):\n",
        "    \"\"\"\n",
        "    Preprocess takes an input text line an applies the same preprocessing used in AraBERT\n",
        "                        pretraining\n",
        "    Args:\n",
        "        text (:obj:`str`): inout text string\n",
        "    Returns:\n",
        "        string: A preprocessed string depending on which model was selected\n",
        "    \"\"\"\n",
        "\n",
        "\n",
        "    text = str(text).lower()\n",
        "\n",
        "    if replace_urls_emails_mentions:\n",
        "        # replace all possible URLs\n",
        "        for reg in url_regexes:\n",
        "            text = re.sub(reg, \" \", text)\n",
        "        # REplace Emails with [بريد]\n",
        "        for reg in email_regexes:\n",
        "            text = re.sub(reg, \" \", text)\n",
        "        # replace mentions with [مستخدم]\n",
        "        text = re.sub(user_mention_regex, \" \", text)        \n",
        "\n",
        "    if remove_html_markup:\n",
        "        # remove html line breaks\n",
        "        text = re.sub(\"<br />\", \" \", text)\n",
        "        # remove html markup\n",
        "        text = re.sub(\"</?[^>]+>\", \" \", text)\n",
        "\n",
        "\n",
        "    text = re.sub(rejected_chars_regex, \" \", text)\n",
        "\n",
        "    # remove extra spaces\n",
        "    text = \" \".join(text.replace(\"\\uFE0F\", \"\").split())\n",
        "\n",
        "    # ALl the other models dont require Farasa Segmentation\n",
        "\n",
        "    return text\n",
        "\n",
        "def _remove_redundant_punct(text):\n",
        "    text_ = text\n",
        "    result = re.search(redundant_punct_pattern, text)\n",
        "    dif = 0\n",
        "    while result:\n",
        "        sub = result.group()\n",
        "        sub = sorted(set(sub), key=sub.index)\n",
        "        sub = \" \" + \"\".join(list(sub)) + \" \"\n",
        "        text = \"\".join(\n",
        "            (text[: result.span()[0] + dif], sub, text[result.span()[1] + dif :])\n",
        "        )\n",
        "        text_ = \"\".join(\n",
        "            (text_[: result.span()[0]], text_[result.span()[1] :])\n",
        "        ).strip()\n",
        "        dif = abs(len(text) - len(text_))\n",
        "        result = re.search(redundant_punct_pattern, text_)\n",
        "    text = re.sub(r\"\\s+\", \" \", text)\n",
        "    return text.strip()"
      ],
      "metadata": {
        "id": "2p6w5Qumr0y3"
      },
      "execution_count": 3,
      "outputs": []
    },
    {
      "cell_type": "code",
      "source": [
        "df_2.text = df_2.text.apply(preprocess)"
      ],
      "metadata": {
        "id": "D9gNzl7dtLIP"
      },
      "execution_count": 4,
      "outputs": []
    },
    {
      "cell_type": "code",
      "source": [
        "merged_data = pd.concat([df_1,df_2[['text','label']]],ignore_index=True)"
      ],
      "metadata": {
        "id": "N0dkYPuFxHwZ"
      },
      "execution_count": 83,
      "outputs": []
    },
    {
      "cell_type": "code",
      "source": [
        "merged_data.label = merged_data.label.map({\"neutral\":\"neutral\",\"worry\":\"worry\",\"sadness\":\"sadness\",\"happiness\":\"happiness\",\"love\":\"love\",\"surprise\":\"surprise\",\n",
        "                              \"fun\":\"fun\", \"relief\":\"relief\" ,\"hate\":\"hate\" ,\"empty\":\"empty\",\"enthusiasm\":\"enthusiasm\",\"joy\":\"happiness\",\"anger\":\"anger\",\"fear\":\"worry\"\n",
        "                              ,\"boredom\":\"boredom\"}.get)"
      ],
      "metadata": {
        "id": "fbchxWKUx95v"
      },
      "execution_count": 84,
      "outputs": []
    },
    {
      "cell_type": "code",
      "source": [
        "merged_data.label.value_counts()"
      ],
      "metadata": {
        "id": "DDjeoCeJxNDh"
      },
      "execution_count": null,
      "outputs": []
    },
    {
      "cell_type": "code",
      "source": [
        "merged_data = merged_data[merged_data['text'].astype(bool)]\n"
      ],
      "metadata": {
        "id": "lxixyUNhziIh"
      },
      "execution_count": 94,
      "outputs": []
    },
    {
      "cell_type": "code",
      "source": [
        "merged_data.to_csv(\"emotion_dataset.csv\",index=False)"
      ],
      "metadata": {
        "id": "_m4KFmHzz9Lg"
      },
      "execution_count": 96,
      "outputs": []
    },
    {
      "cell_type": "code",
      "source": [
        ""
      ],
      "metadata": {
        "id": "9GZe06kJ04FI"
      },
      "execution_count": null,
      "outputs": []
    },
    {
      "cell_type": "markdown",
      "source": [
        "#TFIDF"
      ],
      "metadata": {
        "id": "oZD99QnGZvP-"
      }
    },
    {
      "cell_type": "code",
      "source": [
        "import os\n",
        "\n",
        "import pandas as pd\n",
        "import numpy as np\n",
        "from scipy.stats import randint\n",
        "import seaborn as sns # used for plot interactive graph. \n",
        "import matplotlib.pyplot as plt\n",
        "import seaborn as sns\n",
        "from io import StringIO\n",
        "from sklearn.feature_extraction.text import TfidfVectorizer\n",
        "from sklearn.feature_selection import chi2\n",
        "from IPython.display import display\n",
        "from sklearn.model_selection import train_test_split\n",
        "from sklearn.feature_extraction.text import TfidfTransformer\n",
        "from sklearn.naive_bayes import MultinomialNB\n",
        "from sklearn.linear_model import LogisticRegression\n",
        "from sklearn.ensemble import RandomForestClassifier\n",
        "from sklearn.svm import LinearSVC ,SVC\n",
        "from sklearn.model_selection import cross_val_score\n",
        "from sklearn.metrics import confusion_matrix\n",
        "from sklearn import metrics\n",
        "#import warnings"
      ],
      "metadata": {
        "id": "LTMesrjIZwd4"
      },
      "execution_count": 5,
      "outputs": []
    },
    {
      "cell_type": "code",
      "source": [
        "train = pd.read_csv(\"train.txt.zip\",sep=';',header=None)\n",
        "train.columns = ['text','label']\n",
        "\n",
        "val = pd.read_csv(\"val.txt\",sep=';',header=None)\n",
        "val.columns = ['text','label']\n",
        "\n",
        "\n",
        "test = pd.read_csv(\"test.txt\",sep=';',header=None)\n",
        "test.columns = ['text','label']\n",
        "df = pd.concat([train,val,test],ignore_index=True)\n",
        "df"
      ],
      "metadata": {
        "colab": {
          "base_uri": "https://localhost:8080/",
          "height": 424
        },
        "id": "86nCx1faimp9",
        "outputId": "b0269844-f0e4-482d-e014-8dac6f4c8a9a"
      },
      "execution_count": 6,
      "outputs": [
        {
          "output_type": "execute_result",
          "data": {
            "text/plain": [
              "                                                    text    label\n",
              "0                                i didnt feel humiliated  sadness\n",
              "1      i can go from feeling so hopeless to so damned...  sadness\n",
              "2       im grabbing a minute to post i feel greedy wrong    anger\n",
              "3      i am ever feeling nostalgic about the fireplac...     love\n",
              "4                                   i am feeling grouchy    anger\n",
              "...                                                  ...      ...\n",
              "19995  i just keep feeling like someone is being unki...    anger\n",
              "19996  im feeling a little cranky negative after this...    anger\n",
              "19997  i feel that i am useful to my people and that ...      joy\n",
              "19998  im feeling more comfortable with derby i feel ...      joy\n",
              "19999  i feel all weird when i have to meet w people ...     fear\n",
              "\n",
              "[20000 rows x 2 columns]"
            ],
            "text/html": [
              "\n",
              "  <div id=\"df-ddec7027-43bf-4846-bf1b-f7ae66cbb17b\">\n",
              "    <div class=\"colab-df-container\">\n",
              "      <div>\n",
              "<style scoped>\n",
              "    .dataframe tbody tr th:only-of-type {\n",
              "        vertical-align: middle;\n",
              "    }\n",
              "\n",
              "    .dataframe tbody tr th {\n",
              "        vertical-align: top;\n",
              "    }\n",
              "\n",
              "    .dataframe thead th {\n",
              "        text-align: right;\n",
              "    }\n",
              "</style>\n",
              "<table border=\"1\" class=\"dataframe\">\n",
              "  <thead>\n",
              "    <tr style=\"text-align: right;\">\n",
              "      <th></th>\n",
              "      <th>text</th>\n",
              "      <th>label</th>\n",
              "    </tr>\n",
              "  </thead>\n",
              "  <tbody>\n",
              "    <tr>\n",
              "      <th>0</th>\n",
              "      <td>i didnt feel humiliated</td>\n",
              "      <td>sadness</td>\n",
              "    </tr>\n",
              "    <tr>\n",
              "      <th>1</th>\n",
              "      <td>i can go from feeling so hopeless to so damned...</td>\n",
              "      <td>sadness</td>\n",
              "    </tr>\n",
              "    <tr>\n",
              "      <th>2</th>\n",
              "      <td>im grabbing a minute to post i feel greedy wrong</td>\n",
              "      <td>anger</td>\n",
              "    </tr>\n",
              "    <tr>\n",
              "      <th>3</th>\n",
              "      <td>i am ever feeling nostalgic about the fireplac...</td>\n",
              "      <td>love</td>\n",
              "    </tr>\n",
              "    <tr>\n",
              "      <th>4</th>\n",
              "      <td>i am feeling grouchy</td>\n",
              "      <td>anger</td>\n",
              "    </tr>\n",
              "    <tr>\n",
              "      <th>...</th>\n",
              "      <td>...</td>\n",
              "      <td>...</td>\n",
              "    </tr>\n",
              "    <tr>\n",
              "      <th>19995</th>\n",
              "      <td>i just keep feeling like someone is being unki...</td>\n",
              "      <td>anger</td>\n",
              "    </tr>\n",
              "    <tr>\n",
              "      <th>19996</th>\n",
              "      <td>im feeling a little cranky negative after this...</td>\n",
              "      <td>anger</td>\n",
              "    </tr>\n",
              "    <tr>\n",
              "      <th>19997</th>\n",
              "      <td>i feel that i am useful to my people and that ...</td>\n",
              "      <td>joy</td>\n",
              "    </tr>\n",
              "    <tr>\n",
              "      <th>19998</th>\n",
              "      <td>im feeling more comfortable with derby i feel ...</td>\n",
              "      <td>joy</td>\n",
              "    </tr>\n",
              "    <tr>\n",
              "      <th>19999</th>\n",
              "      <td>i feel all weird when i have to meet w people ...</td>\n",
              "      <td>fear</td>\n",
              "    </tr>\n",
              "  </tbody>\n",
              "</table>\n",
              "<p>20000 rows × 2 columns</p>\n",
              "</div>\n",
              "      <button class=\"colab-df-convert\" onclick=\"convertToInteractive('df-ddec7027-43bf-4846-bf1b-f7ae66cbb17b')\"\n",
              "              title=\"Convert this dataframe to an interactive table.\"\n",
              "              style=\"display:none;\">\n",
              "        \n",
              "  <svg xmlns=\"http://www.w3.org/2000/svg\" height=\"24px\"viewBox=\"0 0 24 24\"\n",
              "       width=\"24px\">\n",
              "    <path d=\"M0 0h24v24H0V0z\" fill=\"none\"/>\n",
              "    <path d=\"M18.56 5.44l.94 2.06.94-2.06 2.06-.94-2.06-.94-.94-2.06-.94 2.06-2.06.94zm-11 1L8.5 8.5l.94-2.06 2.06-.94-2.06-.94L8.5 2.5l-.94 2.06-2.06.94zm10 10l.94 2.06.94-2.06 2.06-.94-2.06-.94-.94-2.06-.94 2.06-2.06.94z\"/><path d=\"M17.41 7.96l-1.37-1.37c-.4-.4-.92-.59-1.43-.59-.52 0-1.04.2-1.43.59L10.3 9.45l-7.72 7.72c-.78.78-.78 2.05 0 2.83L4 21.41c.39.39.9.59 1.41.59.51 0 1.02-.2 1.41-.59l7.78-7.78 2.81-2.81c.8-.78.8-2.07 0-2.86zM5.41 20L4 18.59l7.72-7.72 1.47 1.35L5.41 20z\"/>\n",
              "  </svg>\n",
              "      </button>\n",
              "      \n",
              "  <style>\n",
              "    .colab-df-container {\n",
              "      display:flex;\n",
              "      flex-wrap:wrap;\n",
              "      gap: 12px;\n",
              "    }\n",
              "\n",
              "    .colab-df-convert {\n",
              "      background-color: #E8F0FE;\n",
              "      border: none;\n",
              "      border-radius: 50%;\n",
              "      cursor: pointer;\n",
              "      display: none;\n",
              "      fill: #1967D2;\n",
              "      height: 32px;\n",
              "      padding: 0 0 0 0;\n",
              "      width: 32px;\n",
              "    }\n",
              "\n",
              "    .colab-df-convert:hover {\n",
              "      background-color: #E2EBFA;\n",
              "      box-shadow: 0px 1px 2px rgba(60, 64, 67, 0.3), 0px 1px 3px 1px rgba(60, 64, 67, 0.15);\n",
              "      fill: #174EA6;\n",
              "    }\n",
              "\n",
              "    [theme=dark] .colab-df-convert {\n",
              "      background-color: #3B4455;\n",
              "      fill: #D2E3FC;\n",
              "    }\n",
              "\n",
              "    [theme=dark] .colab-df-convert:hover {\n",
              "      background-color: #434B5C;\n",
              "      box-shadow: 0px 1px 3px 1px rgba(0, 0, 0, 0.15);\n",
              "      filter: drop-shadow(0px 1px 2px rgba(0, 0, 0, 0.3));\n",
              "      fill: #FFFFFF;\n",
              "    }\n",
              "  </style>\n",
              "\n",
              "      <script>\n",
              "        const buttonEl =\n",
              "          document.querySelector('#df-ddec7027-43bf-4846-bf1b-f7ae66cbb17b button.colab-df-convert');\n",
              "        buttonEl.style.display =\n",
              "          google.colab.kernel.accessAllowed ? 'block' : 'none';\n",
              "\n",
              "        async function convertToInteractive(key) {\n",
              "          const element = document.querySelector('#df-ddec7027-43bf-4846-bf1b-f7ae66cbb17b');\n",
              "          const dataTable =\n",
              "            await google.colab.kernel.invokeFunction('convertToInteractive',\n",
              "                                                     [key], {});\n",
              "          if (!dataTable) return;\n",
              "\n",
              "          const docLinkHtml = 'Like what you see? Visit the ' +\n",
              "            '<a target=\"_blank\" href=https://colab.research.google.com/notebooks/data_table.ipynb>data table notebook</a>'\n",
              "            + ' to learn more about interactive tables.';\n",
              "          element.innerHTML = '';\n",
              "          dataTable['output_type'] = 'display_data';\n",
              "          await google.colab.output.renderOutput(dataTable, element);\n",
              "          const docLink = document.createElement('div');\n",
              "          docLink.innerHTML = docLinkHtml;\n",
              "          element.appendChild(docLink);\n",
              "        }\n",
              "      </script>\n",
              "    </div>\n",
              "  </div>\n",
              "  "
            ]
          },
          "metadata": {},
          "execution_count": 6
        }
      ]
    },
    {
      "cell_type": "code",
      "source": [
        "# df = pd.read_csv(\"/content/emotion_dataset.txt\",sep=\";\",header=None)\n",
        "# df.columns =['text','label']\n",
        "class_name = list(df.label.unique())\n",
        "\n",
        "dec = {}\n",
        "for i in range(len(class_name)):\n",
        "  dec[class_name[i]]=i\n",
        "\n",
        "df.label = df.label.map(dec)\n",
        "df"
      ],
      "metadata": {
        "colab": {
          "base_uri": "https://localhost:8080/",
          "height": 424
        },
        "id": "V37oIHRVZzpT",
        "outputId": "689acd96-4f51-4be2-de37-ee534939738a"
      },
      "execution_count": 7,
      "outputs": [
        {
          "output_type": "execute_result",
          "data": {
            "text/plain": [
              "                                                    text  label\n",
              "0                                i didnt feel humiliated      0\n",
              "1      i can go from feeling so hopeless to so damned...      0\n",
              "2       im grabbing a minute to post i feel greedy wrong      1\n",
              "3      i am ever feeling nostalgic about the fireplac...      2\n",
              "4                                   i am feeling grouchy      1\n",
              "...                                                  ...    ...\n",
              "19995  i just keep feeling like someone is being unki...      1\n",
              "19996  im feeling a little cranky negative after this...      1\n",
              "19997  i feel that i am useful to my people and that ...      5\n",
              "19998  im feeling more comfortable with derby i feel ...      5\n",
              "19999  i feel all weird when i have to meet w people ...      4\n",
              "\n",
              "[20000 rows x 2 columns]"
            ],
            "text/html": [
              "\n",
              "  <div id=\"df-f4ef9dc7-93ae-4bdb-99c3-c2cd1a2a340d\">\n",
              "    <div class=\"colab-df-container\">\n",
              "      <div>\n",
              "<style scoped>\n",
              "    .dataframe tbody tr th:only-of-type {\n",
              "        vertical-align: middle;\n",
              "    }\n",
              "\n",
              "    .dataframe tbody tr th {\n",
              "        vertical-align: top;\n",
              "    }\n",
              "\n",
              "    .dataframe thead th {\n",
              "        text-align: right;\n",
              "    }\n",
              "</style>\n",
              "<table border=\"1\" class=\"dataframe\">\n",
              "  <thead>\n",
              "    <tr style=\"text-align: right;\">\n",
              "      <th></th>\n",
              "      <th>text</th>\n",
              "      <th>label</th>\n",
              "    </tr>\n",
              "  </thead>\n",
              "  <tbody>\n",
              "    <tr>\n",
              "      <th>0</th>\n",
              "      <td>i didnt feel humiliated</td>\n",
              "      <td>0</td>\n",
              "    </tr>\n",
              "    <tr>\n",
              "      <th>1</th>\n",
              "      <td>i can go from feeling so hopeless to so damned...</td>\n",
              "      <td>0</td>\n",
              "    </tr>\n",
              "    <tr>\n",
              "      <th>2</th>\n",
              "      <td>im grabbing a minute to post i feel greedy wrong</td>\n",
              "      <td>1</td>\n",
              "    </tr>\n",
              "    <tr>\n",
              "      <th>3</th>\n",
              "      <td>i am ever feeling nostalgic about the fireplac...</td>\n",
              "      <td>2</td>\n",
              "    </tr>\n",
              "    <tr>\n",
              "      <th>4</th>\n",
              "      <td>i am feeling grouchy</td>\n",
              "      <td>1</td>\n",
              "    </tr>\n",
              "    <tr>\n",
              "      <th>...</th>\n",
              "      <td>...</td>\n",
              "      <td>...</td>\n",
              "    </tr>\n",
              "    <tr>\n",
              "      <th>19995</th>\n",
              "      <td>i just keep feeling like someone is being unki...</td>\n",
              "      <td>1</td>\n",
              "    </tr>\n",
              "    <tr>\n",
              "      <th>19996</th>\n",
              "      <td>im feeling a little cranky negative after this...</td>\n",
              "      <td>1</td>\n",
              "    </tr>\n",
              "    <tr>\n",
              "      <th>19997</th>\n",
              "      <td>i feel that i am useful to my people and that ...</td>\n",
              "      <td>5</td>\n",
              "    </tr>\n",
              "    <tr>\n",
              "      <th>19998</th>\n",
              "      <td>im feeling more comfortable with derby i feel ...</td>\n",
              "      <td>5</td>\n",
              "    </tr>\n",
              "    <tr>\n",
              "      <th>19999</th>\n",
              "      <td>i feel all weird when i have to meet w people ...</td>\n",
              "      <td>4</td>\n",
              "    </tr>\n",
              "  </tbody>\n",
              "</table>\n",
              "<p>20000 rows × 2 columns</p>\n",
              "</div>\n",
              "      <button class=\"colab-df-convert\" onclick=\"convertToInteractive('df-f4ef9dc7-93ae-4bdb-99c3-c2cd1a2a340d')\"\n",
              "              title=\"Convert this dataframe to an interactive table.\"\n",
              "              style=\"display:none;\">\n",
              "        \n",
              "  <svg xmlns=\"http://www.w3.org/2000/svg\" height=\"24px\"viewBox=\"0 0 24 24\"\n",
              "       width=\"24px\">\n",
              "    <path d=\"M0 0h24v24H0V0z\" fill=\"none\"/>\n",
              "    <path d=\"M18.56 5.44l.94 2.06.94-2.06 2.06-.94-2.06-.94-.94-2.06-.94 2.06-2.06.94zm-11 1L8.5 8.5l.94-2.06 2.06-.94-2.06-.94L8.5 2.5l-.94 2.06-2.06.94zm10 10l.94 2.06.94-2.06 2.06-.94-2.06-.94-.94-2.06-.94 2.06-2.06.94z\"/><path d=\"M17.41 7.96l-1.37-1.37c-.4-.4-.92-.59-1.43-.59-.52 0-1.04.2-1.43.59L10.3 9.45l-7.72 7.72c-.78.78-.78 2.05 0 2.83L4 21.41c.39.39.9.59 1.41.59.51 0 1.02-.2 1.41-.59l7.78-7.78 2.81-2.81c.8-.78.8-2.07 0-2.86zM5.41 20L4 18.59l7.72-7.72 1.47 1.35L5.41 20z\"/>\n",
              "  </svg>\n",
              "      </button>\n",
              "      \n",
              "  <style>\n",
              "    .colab-df-container {\n",
              "      display:flex;\n",
              "      flex-wrap:wrap;\n",
              "      gap: 12px;\n",
              "    }\n",
              "\n",
              "    .colab-df-convert {\n",
              "      background-color: #E8F0FE;\n",
              "      border: none;\n",
              "      border-radius: 50%;\n",
              "      cursor: pointer;\n",
              "      display: none;\n",
              "      fill: #1967D2;\n",
              "      height: 32px;\n",
              "      padding: 0 0 0 0;\n",
              "      width: 32px;\n",
              "    }\n",
              "\n",
              "    .colab-df-convert:hover {\n",
              "      background-color: #E2EBFA;\n",
              "      box-shadow: 0px 1px 2px rgba(60, 64, 67, 0.3), 0px 1px 3px 1px rgba(60, 64, 67, 0.15);\n",
              "      fill: #174EA6;\n",
              "    }\n",
              "\n",
              "    [theme=dark] .colab-df-convert {\n",
              "      background-color: #3B4455;\n",
              "      fill: #D2E3FC;\n",
              "    }\n",
              "\n",
              "    [theme=dark] .colab-df-convert:hover {\n",
              "      background-color: #434B5C;\n",
              "      box-shadow: 0px 1px 3px 1px rgba(0, 0, 0, 0.15);\n",
              "      filter: drop-shadow(0px 1px 2px rgba(0, 0, 0, 0.3));\n",
              "      fill: #FFFFFF;\n",
              "    }\n",
              "  </style>\n",
              "\n",
              "      <script>\n",
              "        const buttonEl =\n",
              "          document.querySelector('#df-f4ef9dc7-93ae-4bdb-99c3-c2cd1a2a340d button.colab-df-convert');\n",
              "        buttonEl.style.display =\n",
              "          google.colab.kernel.accessAllowed ? 'block' : 'none';\n",
              "\n",
              "        async function convertToInteractive(key) {\n",
              "          const element = document.querySelector('#df-f4ef9dc7-93ae-4bdb-99c3-c2cd1a2a340d');\n",
              "          const dataTable =\n",
              "            await google.colab.kernel.invokeFunction('convertToInteractive',\n",
              "                                                     [key], {});\n",
              "          if (!dataTable) return;\n",
              "\n",
              "          const docLinkHtml = 'Like what you see? Visit the ' +\n",
              "            '<a target=\"_blank\" href=https://colab.research.google.com/notebooks/data_table.ipynb>data table notebook</a>'\n",
              "            + ' to learn more about interactive tables.';\n",
              "          element.innerHTML = '';\n",
              "          dataTable['output_type'] = 'display_data';\n",
              "          await google.colab.output.renderOutput(dataTable, element);\n",
              "          const docLink = document.createElement('div');\n",
              "          docLink.innerHTML = docLinkHtml;\n",
              "          element.appendChild(docLink);\n",
              "        }\n",
              "      </script>\n",
              "    </div>\n",
              "  </div>\n",
              "  "
            ]
          },
          "metadata": {},
          "execution_count": 7
        }
      ]
    },
    {
      "cell_type": "code",
      "source": [
        "tfidf = TfidfVectorizer(sublinear_tf=True, min_df=3,\n",
        "                        ngram_range=(1, 2), \n",
        "                        stop_words='english')\n",
        "\n",
        "# We transform each complaint into a vector\n",
        "features = tfidf.fit_transform(df.text).toarray()\n",
        "corpus = [\"i feel sad and depressed and don't want to live anymore\"]\n",
        "features_sen = tfidf.transform(corpus)\n",
        "labels = df.label\n",
        "\n",
        "print(\"Each of the %d complaints is represented by %d features (TF-IDF score of unigrams and bigrams)\" %(features.shape))"
      ],
      "metadata": {
        "colab": {
          "base_uri": "https://localhost:8080/"
        },
        "id": "mFvoP2W5aMjw",
        "outputId": "754aeda1-8a9b-472b-c6f9-fc46d323f6e7"
      },
      "execution_count": 8,
      "outputs": [
        {
          "output_type": "stream",
          "name": "stdout",
          "text": [
            "Each of the 20000 complaints is represented by 10185 features (TF-IDF score of unigrams and bigrams)\n"
          ]
        }
      ]
    },
    {
      "cell_type": "code",
      "source": [
        "N = 3\n",
        "for Product, category_id in sorted(df.items()):\n",
        "  features_chi2 = chi2(features, labels == category_id)\n",
        "  indices = np.argsort(features_chi2[0])\n",
        "  feature_names = np.array(tfidf.get_feature_names())[indices]\n",
        "  unigrams = [v for v in feature_names if len(v.split(' ')) == 1]\n",
        "  bigrams = [v for v in feature_names if len(v.split(' ')) == 2]\n",
        "  print(\"\\n==> %s:\" %(Product))\n",
        "  print(\"  * Most Correlated Unigrams are: %s\" %(', '.join(unigrams[-N:])))\n",
        "  print(\"  * Most Correlated Bigrams are: %s\" %(', '.join(bigrams[-N:])))"
      ],
      "metadata": {
        "colab": {
          "base_uri": "https://localhost:8080/"
        },
        "id": "ybX3r_rKad_g",
        "outputId": "790490f7-6f57-46d5-aa9e-e82700ed3ff2"
      },
      "execution_count": 10,
      "outputs": [
        {
          "output_type": "stream",
          "name": "stderr",
          "text": [
            "/usr/local/lib/python3.7/dist-packages/sklearn/utils/deprecation.py:87: FutureWarning: Function get_feature_names is deprecated; get_feature_names is deprecated in 1.0 and will be removed in 1.2. Please use get_feature_names_out instead.\n",
            "  warnings.warn(msg, category=FutureWarning)\n"
          ]
        },
        {
          "output_type": "stream",
          "name": "stdout",
          "text": [
            "\n",
            "==> label:\n",
            "  * Most Correlated Unigrams are: folks, follow, zumba\n",
            "  * Most Correlated Bigrams are: feeling mournful, feeling naughty, feeling melancholy\n",
            "\n",
            "==> text:\n",
            "  * Most Correlated Unigrams are: folks, follow, zumba\n",
            "  * Most Correlated Bigrams are: feeling mournful, feeling naughty, feeling melancholy\n"
          ]
        },
        {
          "output_type": "stream",
          "name": "stderr",
          "text": [
            "/usr/local/lib/python3.7/dist-packages/sklearn/utils/deprecation.py:87: FutureWarning: Function get_feature_names is deprecated; get_feature_names is deprecated in 1.0 and will be removed in 1.2. Please use get_feature_names_out instead.\n",
            "  warnings.warn(msg, category=FutureWarning)\n"
          ]
        }
      ]
    },
    {
      "cell_type": "code",
      "source": [
        "X = df['text']\n",
        "y = df['label']\n",
        "X_train, X_test, y_train, y_test = train_test_split(X, y, \n",
        "                                                    test_size=0.25,\n",
        "                                                    random_state = 0)"
      ],
      "metadata": {
        "id": "cF3_-CxLbBYg"
      },
      "execution_count": 11,
      "outputs": []
    },
    {
      "cell_type": "code",
      "source": [
        "# models = [\n",
        "#     LinearSVC(),\n",
        "#     LogisticRegression(random_state=0),\n",
        "#     SVC()\n",
        "# ]\n",
        "\n",
        "# # 5 Cross-validation\n",
        "# CV = 5\n",
        "# cv_df = pd.DataFrame(index=range(CV * len(models)))\n",
        "\n",
        "# entries = []\n",
        "# for model in models:\n",
        "#   model_name = model.__class__.__name__\n",
        "#   accuracies = cross_val_score(model, features, labels, scoring='accuracy', cv=CV)\n",
        "#   for fold_idx, accuracy in enumerate(accuracies):\n",
        "#     entries.append((model_name, fold_idx, accuracy))\n",
        "    \n",
        "# cv_df = pd.DataFrame(entries, columns=['model_name', 'fold_idx', 'accuracy'])"
      ],
      "metadata": {
        "id": "PUOoShhWbVKs"
      },
      "execution_count": 12,
      "outputs": []
    },
    {
      "cell_type": "code",
      "source": [
        "# mean_accuracy = cv_df.groupby('model_name').accuracy.mean()\n",
        "# std_accuracy = cv_df.groupby('model_name').accuracy.std()\n",
        "\n",
        "# acc = pd.concat([mean_accuracy, std_accuracy], axis= 1, \n",
        "#           ignore_index=True)\n",
        "# acc.columns = ['Mean Accuracy', 'Standard deviation']\n",
        "# acc"
      ],
      "metadata": {
        "id": "aOyWN9KCbVkv"
      },
      "execution_count": 13,
      "outputs": []
    },
    {
      "cell_type": "code",
      "source": [
        "# plt.figure(figsize=(8,5))\n",
        "# sns.boxplot(x='model_name', y='accuracy', \n",
        "#             data=cv_df, \n",
        "#             color='lightblue', \n",
        "#             showmeans=True)\n",
        "# plt.title(\"MEAN ACCURACY (cv = 5)\\n\", size=14);"
      ],
      "metadata": {
        "id": "EzRuuKoXbZyA"
      },
      "execution_count": 14,
      "outputs": []
    },
    {
      "cell_type": "code",
      "source": [
        ""
      ],
      "metadata": {
        "id": "q_70RrqO9_gb"
      },
      "execution_count": 14,
      "outputs": []
    },
    {
      "cell_type": "code",
      "source": [
        "X_train, X_test, y_train, y_test,indices_train,indices_test = train_test_split(features, \n",
        "                                                               labels, \n",
        "                                                               df.index, test_size=0.25, \n",
        "                                                               random_state=1)\n",
        "\n",
        "\n",
        "\n",
        "model = LinearSVC()\n",
        "model.fit(X_train, y_train)\n",
        "y_pred = model.predict(X_test)"
      ],
      "metadata": {
        "id": "bznJLruQgkpR"
      },
      "execution_count": 15,
      "outputs": []
    },
    {
      "cell_type": "code",
      "source": [
        "# Classification report\n",
        "print('\\t\\t\\t\\tCLASSIFICATIION METRICS\\n')\n",
        "print(metrics.classification_report(y_test, y_pred, \n",
        "                                    target_names= [str(i) for i in df['label'].unique()]))"
      ],
      "metadata": {
        "colab": {
          "base_uri": "https://localhost:8080/"
        },
        "id": "ncLYuN1dgxyE",
        "outputId": "200f21fb-58b5-4d47-dad7-1634026d9271"
      },
      "execution_count": 16,
      "outputs": [
        {
          "output_type": "stream",
          "name": "stdout",
          "text": [
            "\t\t\t\tCLASSIFICATIION METRICS\n",
            "\n",
            "              precision    recall  f1-score   support\n",
            "\n",
            "           0       0.94      0.95      0.95      1444\n",
            "           1       0.91      0.91      0.91       688\n",
            "           2       0.85      0.75      0.79       427\n",
            "           3       0.80      0.72      0.76       179\n",
            "           4       0.88      0.86      0.87       559\n",
            "           5       0.90      0.94      0.92      1703\n",
            "\n",
            "    accuracy                           0.90      5000\n",
            "   macro avg       0.88      0.85      0.87      5000\n",
            "weighted avg       0.90      0.90      0.90      5000\n",
            "\n"
          ]
        }
      ]
    },
    {
      "cell_type": "code",
      "source": [
        "from sklearn.metrics import f1_score\n",
        "f1_score(y_test,y_pred,average='macro')"
      ],
      "metadata": {
        "colab": {
          "base_uri": "https://localhost:8080/"
        },
        "id": "7UeuDHXKwwMa",
        "outputId": "f6e195e6-7fd5-4938-d184-c69a2f8bf891"
      },
      "execution_count": 17,
      "outputs": [
        {
          "output_type": "execute_result",
          "data": {
            "text/plain": [
              "0.8660562475207553"
            ]
          },
          "metadata": {},
          "execution_count": 17
        }
      ]
    },
    {
      "cell_type": "code",
      "source": [
        "dec"
      ],
      "metadata": {
        "colab": {
          "base_uri": "https://localhost:8080/"
        },
        "id": "9ZWthyqNAxTU",
        "outputId": "ecaaf6c7-6c4b-4488-a4a5-24ff9d8d99f8"
      },
      "execution_count": 41,
      "outputs": [
        {
          "output_type": "execute_result",
          "data": {
            "text/plain": [
              "{'anger': 1, 'fear': 4, 'joy': 5, 'love': 2, 'sadness': 0, 'surprise': 3}"
            ]
          },
          "metadata": {},
          "execution_count": 41
        }
      ]
    },
    {
      "cell_type": "code",
      "source": [
        "def infernece(text):\n",
        "  text_tfidf = tfidf.transform([text])\n",
        "  result = model.predict(text_tfidf)\n",
        "  inverse_dec = {1:'anger', 4:'fear', 5:'joy',2: 'love',0:'sadness',3:'surprise'}\n",
        "  return inverse_dec[result[0]]\n",
        "  "
      ],
      "metadata": {
        "id": "HdjfdfSQ4_KU"
      },
      "execution_count": 43,
      "outputs": []
    },
    {
      "cell_type": "code",
      "source": [
        "infernece(\" the demon said, her voice dripping sarcasm. Also known as passion, I said quietly. Passion has overthrown tyrants and freed prisoners and slaves. Passion has brought justice where there was savagery. Passion has created freedom where there was nothing but fear. Passion has helped souls rise from the ashes of their horrible lives and build something better, stronger, more beautiful\")"
      ],
      "metadata": {
        "colab": {
          "base_uri": "https://localhost:8080/",
          "height": 35
        },
        "id": "pqEjAvsVBIai",
        "outputId": "46960dd5-864c-4d65-9271-f7a9cf7a356f"
      },
      "execution_count": 57,
      "outputs": [
        {
          "output_type": "execute_result",
          "data": {
            "text/plain": [
              "'joy'"
            ],
            "application/vnd.google.colaboratory.intrinsic+json": {
              "type": "string"
            }
          },
          "metadata": {},
          "execution_count": 57
        }
      ]
    },
    {
      "cell_type": "code",
      "source": [
        ""
      ],
      "metadata": {
        "id": "x6R8wgtPBQgP"
      },
      "execution_count": null,
      "outputs": []
    }
  ]
}